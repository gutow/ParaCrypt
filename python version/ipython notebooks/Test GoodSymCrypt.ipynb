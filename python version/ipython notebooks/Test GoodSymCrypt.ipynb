{
 "cells": [
  {
   "cell_type": "code",
   "execution_count": 1,
   "metadata": {
    "collapsed": false
   },
   "outputs": [
    {
     "data": {
      "text/plain": [
       "['test_compdoc_vg_comp.ecr',\n",
       " 'glasses_rndpng.ecr',\n",
       " 'Test GoodSymCrypt.ipynb',\n",
       " '.ipynb_checkpoints',\n",
       " 'Encrypt test document.odt',\n",
       " 'test_rnd_png_short.png',\n",
       " 'encryptutil.py',\n",
       " '__pycache__',\n",
       " 'pngutil.py',\n",
       " \"Colin's new glasses.jpg\",\n",
       " 'test_compdoc_rpng.ecr',\n",
       " 'decryptutil.py~',\n",
       " 'test_rnd_png.png',\n",
       " 'test_vg.ecr',\n",
       " 'test.ecr',\n",
       " '.git',\n",
       " '2015_visitorsguide_web.pdf',\n",
       " '2015_visitorsguide_web.pdf.tar.gz',\n",
       " 'encryptutil.py~',\n",
       " 'decryptutil.py',\n",
       " 'Encrypt test document.odt.tar.gz',\n",
       " 'test_rndpng.ecr',\n",
       " 'tests',\n",
       " 'test_vg_comp.ecr',\n",
       " 'rndpngshort_rndpng.ecr']"
      ]
     },
     "execution_count": 1,
     "metadata": {},
     "output_type": "execute_result"
    }
   ],
   "source": [
    "import os\n",
    "os.listdir()"
   ]
  },
  {
   "cell_type": "code",
   "execution_count": 2,
   "metadata": {
    "collapsed": false
   },
   "outputs": [
    {
     "data": {
      "text/plain": [
       "['In',\n",
       " 'Out',\n",
       " '_',\n",
       " '_1',\n",
       " '__',\n",
       " '___',\n",
       " '__builtin__',\n",
       " '__builtins__',\n",
       " '__doc__',\n",
       " '__loader__',\n",
       " '__name__',\n",
       " '__package__',\n",
       " '__spec__',\n",
       " '_dh',\n",
       " '_i',\n",
       " '_i1',\n",
       " '_i2',\n",
       " '_ih',\n",
       " '_ii',\n",
       " '_iii',\n",
       " '_oh',\n",
       " '_sh',\n",
       " 'array',\n",
       " 'decryptbytechunk',\n",
       " 'decryptfile',\n",
       " 'decryptheader',\n",
       " 'decryptheaderbytechunk',\n",
       " 'encryptbytechunk',\n",
       " 'encryptfile',\n",
       " 'exit',\n",
       " 'get_ipython',\n",
       " 'headerbytes',\n",
       " 'keylist',\n",
       " 'math',\n",
       " 'os',\n",
       " 'quit',\n",
       " 'random',\n",
       " 'time']"
      ]
     },
     "execution_count": 2,
     "metadata": {},
     "output_type": "execute_result"
    }
   ],
   "source": [
    "from encryptutil import *\n",
    "from decryptutil import *\n",
    "dir()"
   ]
  },
  {
   "cell_type": "code",
   "execution_count": 3,
   "metadata": {
    "collapsed": false
   },
   "outputs": [
    {
     "name": "stdout",
     "output_type": "stream",
     "text": [
      "tests/Encrypt test document.odt\n"
     ]
    }
   ],
   "source": [
    "toencrypt=open('tests/Encrypt test document.odt','rb')\n",
    "print(toencrypt.name)"
   ]
  },
  {
   "cell_type": "code",
   "execution_count": 4,
   "metadata": {
    "collapsed": false
   },
   "outputs": [
    {
     "name": "stdout",
     "output_type": "stream",
     "text": [
      "test_rnd_png.png\n"
     ]
    }
   ],
   "source": [
    "keyfile=open('test_rnd_png.png','rb')\n",
    "print(keyfile.name)"
   ]
  },
  {
   "cell_type": "code",
   "execution_count": 5,
   "metadata": {
    "collapsed": false,
    "scrolled": false
   },
   "outputs": [
    {
     "name": "stdout",
     "output_type": "stream",
     "text": [
      "Generating 65535 bytes of encryption data...\n",
      "Writing 92 bytes of encrypted file header...\n",
      "Encrypting file...\n",
      "Size of chunk to encrypt: 33938\n",
      "Encryption complete. Naming file to \"test.ecr\".\n",
      "Done.\n"
     ]
    }
   ],
   "source": [
    "encrypted = encryptfile(toencrypt,'Encrypt test document.odt',keyfile)\n",
    "filename = encrypted.name\n",
    "encrypted.close()\n",
    "print('Encryption complete. Naming file to \"test.ecr\".')\n",
    "os.rename(filename,'test.ecr')\n",
    "print('Done.')"
   ]
  },
  {
   "cell_type": "code",
   "execution_count": 6,
   "metadata": {
    "collapsed": false
   },
   "outputs": [
    {
     "name": "stdout",
     "output_type": "stream",
     "text": [
      "Decrypting header info...\n",
      "Decrypting file into 'Encrypt test document.odt'...\n"
     ]
    },
    {
     "data": {
      "text/plain": [
       "'Decryption complete.'"
      ]
     },
     "execution_count": 6,
     "metadata": {},
     "output_type": "execute_result"
    }
   ],
   "source": [
    "todecrypt = open('test.ecr','rb')\n",
    "decryptfile(todecrypt, keyfile)"
   ]
  },
  {
   "cell_type": "code",
   "execution_count": 7,
   "metadata": {
    "collapsed": false
   },
   "outputs": [
    {
     "data": {
      "text/plain": [
       "'/home/jonathan/git/GoodSymCrypt/test.ecr'"
      ]
     },
     "execution_count": 7,
     "metadata": {},
     "output_type": "execute_result"
    }
   ],
   "source": [
    "os.path.realpath(todecrypt.name)"
   ]
  },
  {
   "cell_type": "code",
   "execution_count": 8,
   "metadata": {
    "collapsed": false
   },
   "outputs": [
    {
     "name": "stdout",
     "output_type": "stream",
     "text": [
      "Keyfile: /home/jonathan/git/GoodSymCrypt/2015_visitorsguide_web.pdf\n",
      "Generating 65535 bytes of encryption data...\n",
      "Writing 92 bytes of encrypted file header...\n",
      "Encrypting file...\n",
      "Size of chunk to encrypt: 33938\n",
      "Encryption complete. Naming file to \"test.ecr\".\n",
      "Done.\n"
     ]
    }
   ],
   "source": [
    "keyfile=open('2015_visitorsguide_web.pdf','rb')\n",
    "print('Keyfile: '+ os.path.realpath(keyfile.name))\n",
    "encrypted = encryptfile(toencrypt,'Encrypt test document.odt',keyfile)\n",
    "filename = encrypted.name\n",
    "encrypted.close()\n",
    "print('Encryption complete. Naming file to \"test.ecr\".')\n",
    "os.rename(filename,'test.ecr')\n",
    "print('Done.')"
   ]
  },
  {
   "cell_type": "code",
   "execution_count": null,
   "metadata": {
    "collapsed": false
   },
   "outputs": [],
   "source": []
  },
  {
   "cell_type": "code",
   "execution_count": 9,
   "metadata": {
    "collapsed": false
   },
   "outputs": [
    {
     "name": "stdout",
     "output_type": "stream",
     "text": [
      "Keyfile: /home/jonathan/git/GoodSymCrypt/2015_visitorsguide_web.pdf.tar.gz\n",
      "Generating 65535 bytes of encryption data...\n",
      "Writing 92 bytes of encrypted file header...\n",
      "Encrypting file...\n",
      "Size of chunk to encrypt: 33938\n",
      "Encryption complete. Naming file to \"test_vg_comp.ecr\".\n",
      "Done.\n",
      "Decrypting header info...\n",
      "Decrypting file into 'Encrypt test document.odt'...\n"
     ]
    },
    {
     "data": {
      "text/plain": [
       "'Decryption complete.'"
      ]
     },
     "execution_count": 9,
     "metadata": {},
     "output_type": "execute_result"
    }
   ],
   "source": [
    "keyfile=open('2015_visitorsguide_web.pdf.tar.gz','rb')\n",
    "print('Keyfile: '+ os.path.realpath(keyfile.name))\n",
    "encrypted = encryptfile(toencrypt,'Encrypt test document.odt',keyfile)\n",
    "filename = encrypted.name\n",
    "encrypted.close()\n",
    "savename='test_vg_comp.ecr'\n",
    "print('Encryption complete. Naming file to \"'+savename+'\".')\n",
    "os.rename(filename,savename)\n",
    "print('Done.')\n",
    "todecrypt = open(savename,'rb')\n",
    "decryptfile(todecrypt, keyfile)"
   ]
  },
  {
   "cell_type": "code",
   "execution_count": 10,
   "metadata": {
    "collapsed": false
   },
   "outputs": [
    {
     "name": "stdout",
     "output_type": "stream",
     "text": [
      "Keyfile: /home/jonathan/git/GoodSymCrypt/2015_visitorsguide_web.pdf.tar.gz\n",
      "Generating 65535 bytes of encryption data...\n",
      "Writing 106 bytes of encrypted file header...\n",
      "Encrypting file...\n",
      "Size of chunk to encrypt: 32092\n",
      "Encryption complete. Naming file to \"test_compdoc_vg_comp.ecr\".\n",
      "Done.\n",
      "Decrypting header info...\n",
      "Decrypting file into 'Encrypt test document.odt.tar.gz'...\n"
     ]
    },
    {
     "data": {
      "text/plain": [
       "'Decryption complete.'"
      ]
     },
     "execution_count": 10,
     "metadata": {},
     "output_type": "execute_result"
    }
   ],
   "source": [
    "toencrypt=open('Encrypt test document.odt.tar.gz','rb')\n",
    "keyfile=open('2015_visitorsguide_web.pdf.tar.gz','rb')\n",
    "print('Keyfile: '+ os.path.realpath(keyfile.name))\n",
    "encrypted = encryptfile(toencrypt,'Encrypt test document.odt.tar.gz',keyfile)\n",
    "filename = encrypted.name\n",
    "encrypted.close()\n",
    "savename='test_compdoc_vg_comp.ecr'\n",
    "print('Encryption complete. Naming file to \"'+savename+'\".')\n",
    "os.rename(filename,savename)\n",
    "print('Done.')\n",
    "todecrypt = open(savename,'rb')\n",
    "decryptfile(todecrypt, keyfile)"
   ]
  },
  {
   "cell_type": "code",
   "execution_count": 11,
   "metadata": {
    "collapsed": false
   },
   "outputs": [
    {
     "name": "stdout",
     "output_type": "stream",
     "text": [
      "min(minimum):0\n",
      "max(minimum):20044\n",
      "min(maximum):60507\n",
      "max(maximum):65534\n",
      "min(length):29\n",
      "max(length):2341\n"
     ]
    },
    {
     "data": {
      "image/png": "[encoded data removed]",
      "text/plain": [
       "<matplotlib.figure.Figure at 0x7fe6b06b0eb8>"
      ]
     },
     "metadata": {},
     "output_type": "display_data"
    }
   ],
   "source": [
    "#key statistics plot\n",
    "import matplotlib.pyplot as plt\n",
    "keyfile=open('/home/jonathan/git/GoodSymCrypt/2015_visitorsguide_web.pdf','rb')\n",
    "testkeys = keylist(keyfile,offset=65789,nbytes=65535,chunksize=65535)\n",
    "length=[]\n",
    "minimum=[]\n",
    "maximum=[]\n",
    "for i in range(0,255):\n",
    "    length.append(len(testkeys[i]))\n",
    "    minimum.append(min(testkeys[i]))\n",
    "    maximum.append(max(testkeys[i]))\n",
    "minmin=min(minimum)\n",
    "print('min(minimum):'+str(minmin))\n",
    "maxmin=max(minimum)\n",
    "print('max(minimum):'+str(maxmin))\n",
    "minmax=min(maximum)\n",
    "print('min(maximum):'+str(minmax))\n",
    "maxmax=max(maximum)\n",
    "print('max(maximum):'+str(maxmax))\n",
    "minlen=min(length)\n",
    "print('min(length):'+str(minlen))\n",
    "maxlen=max(length)\n",
    "print('max(length):'+str(maxlen))\n",
    "\n",
    "#set up plot\n",
    "fig, ax1 = plt.subplots()\n",
    "ax1.plot(minimum,'g.')\n",
    "ax1.plot(maximum,'b.')\n",
    "ax1.set_xlabel('index')\n",
    "# Make the y-axis label, ticks and tick labels match the line color.\n",
    "ax1.set_ylabel('min & max')\n",
    "ax2 = ax1.twinx()\n",
    "ax2.plot(length,'k.')\n",
    "ax2.set_ylabel('length',color='k')\n",
    "#fig.tight_layout() This command seems to make the plot show up in steps.\n",
    "plt.show()"
   ]
  },
  {
   "cell_type": "code",
   "execution_count": 12,
   "metadata": {
    "collapsed": false
   },
   "outputs": [
    {
     "data": {
      "image/png": "[encoded data removed]",
      "text/plain": [
       "<matplotlib.figure.Figure at 0x7fe6b06b0320>"
      ]
     },
     "metadata": {},
     "output_type": "display_data"
    }
   ],
   "source": [
    "#key statistics plot\n",
    "import matplotlib.pyplot as plt\n",
    "keyfile=open('/home/jonathan/git/GoodSymCrypt/test_rnd_png.png','rb')\n",
    "testkeys = keylist(keyfile,offset=65789,nbytes=65535,chunksize=65535)\n",
    "length=[]\n",
    "minimum=[]\n",
    "maximum=[]\n",
    "for i in range(0,255):\n",
    "    length.append(len(testkeys[i]))\n",
    "    minimum.append(min(testkeys[i]))\n",
    "    maximum.append(max(testkeys[i]))\n",
    "minmin=min(minimum)\n",
    "maxmin=max(minimum)\n",
    "minmax=min(maximum)\n",
    "maxmax=max(maximum)\n",
    "minlen=min(length)\n",
    "maxlen=max(length)\n",
    "\n",
    "#set up plot\n",
    "fig, ax1 = plt.subplots()\n",
    "ax1.plot(minimum,'g.')\n",
    "ax1.plot(maximum,'b.')\n",
    "ax1.set_xlabel('index')\n",
    "# Make the y-axis label, ticks and tick labels match the line color.\n",
    "ax1.set_ylabel('min & max')\n",
    "ax2 = ax1.twinx()\n",
    "ax2.plot(length,'k.')\n",
    "ax2.set_ylabel('length',color='k')\n",
    "#fig.tight_layout() This command seems to make the plot show up in steps.\n",
    "plt.show()"
   ]
  },
  {
   "cell_type": "code",
   "execution_count": 13,
   "metadata": {
    "collapsed": false
   },
   "outputs": [
    {
     "name": "stdout",
     "output_type": "stream",
     "text": [
      "Keyfile: /home/jonathan/git/GoodSymCrypt/test_rnd_png.png\n",
      "Generating 65535 bytes of encryption data...\n",
      "Writing 106 bytes of encrypted file header...\n",
      "Encrypting file...\n",
      "Size of chunk to encrypt: 32092\n",
      "Encryption complete. Naming file to \"test_compdoc_rpng.ecr\".\n",
      "Done.\n",
      "Decrypting header info...\n",
      "Decrypting file into 'Encrypt test document.odt.tar.gz'...\n"
     ]
    },
    {
     "data": {
      "text/plain": [
       "'Decryption complete.'"
      ]
     },
     "execution_count": 13,
     "metadata": {},
     "output_type": "execute_result"
    }
   ],
   "source": [
    "toencrypt=open('Encrypt test document.odt.tar.gz','rb')\n",
    "keyfile=open('test_rnd_png.png','rb')\n",
    "print('Keyfile: '+ os.path.realpath(keyfile.name))\n",
    "encrypted = encryptfile(toencrypt,'Encrypt test document.odt.tar.gz',keyfile)\n",
    "filename = encrypted.name\n",
    "encrypted.close()\n",
    "savename='test_compdoc_rpng.ecr'\n",
    "print('Encryption complete. Naming file to \"'+savename+'\".')\n",
    "os.rename(filename,savename)\n",
    "print('Done.')\n",
    "todecrypt = open(savename,'rb')\n",
    "decryptfile(todecrypt, keyfile)"
   ]
  },
  {
   "cell_type": "code",
   "execution_count": 14,
   "metadata": {
    "collapsed": false
   },
   "outputs": [
    {
     "name": "stdout",
     "output_type": "stream",
     "text": [
      "Keyfile: /home/jonathan/git/GoodSymCrypt/test_rnd_png.png\n",
      "Generating 65535 bytes of encryption data...\n",
      "Writing 86 bytes of encrypted file header...\n",
      "Encrypting file...\n",
      "Size of chunk to encrypt: 14468\n",
      "Encryption complete. Naming file to \"rndpngshort_rndpng.ecr\".\n",
      "Done.\n",
      "Decrypting header info...\n",
      "Decrypting file into 'test_rnd_png_short.png'...\n"
     ]
    },
    {
     "data": {
      "text/plain": [
       "'Decryption complete.'"
      ]
     },
     "execution_count": 14,
     "metadata": {},
     "output_type": "execute_result"
    }
   ],
   "source": [
    "toencrypt=open('/home/jonathan/git/GoodSymCrypt/test_rnd_png_short.png','rb')\n",
    "keyfile=open('test_rnd_png.png','rb')\n",
    "print('Keyfile: '+ os.path.realpath(keyfile.name))\n",
    "encrypted = encryptfile(toencrypt,'test_rnd_png_short.png',keyfile)\n",
    "filename = encrypted.name\n",
    "encrypted.close()\n",
    "savename='rndpngshort_rndpng.ecr'\n",
    "print('Encryption complete. Naming file to \"'+savename+'\".')\n",
    "os.rename(filename,savename)\n",
    "print('Done.')\n",
    "todecrypt = open(savename,'rb')\n",
    "decryptfile(todecrypt, keyfile)"
   ]
  },
  {
   "cell_type": "code",
   "execution_count": 15,
   "metadata": {
    "collapsed": false,
    "scrolled": true
   },
   "outputs": [
    {
     "name": "stdout",
     "output_type": "stream",
     "text": [
      "Keyfile: /home/jonathan/git/GoodSymCrypt/test_rnd_png.png\n",
      "Generating 65536 bytes of encryption data...\n",
      "Writing 90 bytes of encrypted file header...\n",
      "Encrypting file...\n",
      "Size of chunk to encrypt: 65535\n",
      "Size of chunk to encrypt: 65535\n",
      "Size of chunk to encrypt: 65535\n",
      "Size of chunk to encrypt: 65535\n",
      "Size of chunk to encrypt: 65535\n",
      "Size of chunk to encrypt: 65535\n",
      "Size of chunk to encrypt: 65535\n",
      "Size of chunk to encrypt: 52472\n",
      "Encryption complete. Naming file to \"glasses_rndpng.ecr\".\n",
      "Done.\n",
      "Decrypting header info...\n",
      "Decrypting file into 'Colin's new glasses.jpg'...\n"
     ]
    },
    {
     "data": {
      "text/plain": [
       "'Decryption complete.'"
      ]
     },
     "execution_count": 15,
     "metadata": {},
     "output_type": "execute_result"
    }
   ],
   "source": [
    "toencrypt=open(\"/home/jonathan/Pictures/Colin's new glasses.jpg\",'rb')\n",
    "keyfile=open('test_rnd_png.png','rb')\n",
    "print('Keyfile: '+ os.path.realpath(keyfile.name))\n",
    "encrypted = encryptfile(toencrypt,\"Colin's new glasses.jpg\",keyfile)\n",
    "filename = encrypted.name\n",
    "encrypted.close()\n",
    "savename='glasses_rndpng.ecr'\n",
    "print('Encryption complete. Naming file to \"'+savename+'\".')\n",
    "os.rename(filename,savename)\n",
    "print('Done.')\n",
    "todecrypt = open(savename,'rb')\n",
    "decryptfile(todecrypt, keyfile)"
   ]
  },
  {
   "cell_type": "code",
   "execution_count": 16,
   "metadata": {
    "collapsed": false
   },
   "outputs": [
    {
     "name": "stdout",
     "output_type": "stream",
     "text": [
      "180\n"
     ]
    }
   ],
   "source": []
  },
  {
   "cell_type": "code",
   "execution_count": null,
   "metadata": {
    "collapsed": true
   },
   "outputs": [],
   "source": []
  }
 ],
 "metadata": {
  "kernelspec": {
   "display_name": "Python 3",
   "language": "python",
   "name": "python3"
  },
  "language_info": {
   "codemirror_mode": {
    "name": "ipython",
    "version": 3
   },
   "file_extension": ".py",
   "mimetype": "text/x-python",
   "name": "python",
   "nbconvert_exporter": "python",
   "pygments_lexer": "ipython3",
   "version": "3.5.2"
  }
 },
 "nbformat": 4,
 "nbformat_minor": 1
}
